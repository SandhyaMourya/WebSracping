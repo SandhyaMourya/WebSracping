{
 "cells": [
  {
   "cell_type": "code",
   "execution_count": 1,
   "metadata": {},
   "outputs": [],
   "source": [
    "import urllib.request as ul\n",
    "from bs4 import BeautifulSoup as soup"
   ]
  },
  {
   "cell_type": "code",
   "execution_count": 2,
   "metadata": {},
   "outputs": [],
   "source": [
    "url=\"https://www.icliniq.com/search/online-doctors-directory\"\n",
    "req=ul.Request(url,headers={'User-Agent': 'Mozilla/5.0'})\n",
    "client=ul.urlopen(req)\n",
    "htmldata=client.read()\n",
    "client.close()"
   ]
  },
  {
   "cell_type": "code",
   "execution_count": 3,
   "metadata": {},
   "outputs": [],
   "source": [
    "pagesoup=soup(htmldata,\"html.parser\")\n",
    "itemlocator=pagesoup.findAll('div',{\"class\":\"ic-card-shadow mb-4\"})"
   ]
  },
  {
   "cell_type": "code",
   "execution_count": 4,
   "metadata": {},
   "outputs": [
    {
     "data": {
      "text/plain": [
       "170"
      ]
     },
     "execution_count": 4,
     "metadata": {},
     "output_type": "execute_result"
    }
   ],
   "source": [
    "filename=\"Health_data.csv\"\n",
    "f=open(filename,\"w\",encoding=\"utf-8\")\n",
    "headers=\"Name, Photo, About, Degree, Email/Phone Fee, Address, Specialization, Years of Experience, Language, Rating, Clinic Name, Online Bookings/Consult Online, Link to profile\\n\"\n",
    "f.write(headers)"
   ]
  },
  {
   "cell_type": "code",
   "execution_count": 5,
   "metadata": {},
   "outputs": [],
   "source": [
    "for items in itemlocator:\n",
    "    #Name\n",
    "    namecontainer=items.h3.a[\"title\"]\n",
    "    #Image of doctor\n",
    "    photo=items.findAll('div',{\"class\":\"media-left mr-3\"})\n",
    "    photo=items.div.a.img[\"src\"]\n",
    "    #OpenNew URL of each doctor\n",
    "    url_doc=items.div.a[\"href\"]\n",
    "    url_doc=\"https://www.icliniq.com/\"+url_doc\n",
    "    req1=ul.Request(url_doc,headers={'User-Agent': 'Mozilla/5.0'})\n",
    "    client1=ul.urlopen(req1)\n",
    "    htmldata1=client1.read()\n",
    "    client1.close()\n",
    "    #About Me\n",
    "    pagesoup1=soup(htmldata1,\"html.parser\")\n",
    "    itemlocator1=pagesoup1.find('div',{\"class\":\"ic-card-shadow p-3 mb-4 left_div\"})\n",
    "    aboutme=itemlocator1.a[\"title\"]\n",
    "    #Degree \n",
    "    \n",
    "    Degree=pagesoup1.find('div',{\"class\":\"mb-3\"})\n",
    "    d=Degree.find('span',{\"class\":\"small\"}).text\n",
    "    \n",
    "    #Address\n",
    "    adrs=pagesoup1.find('div',{\"class\":\"loaction mt-1\"})\n",
    "    if(adrs==None):\n",
    "        address=\"np.nan\"\n",
    "    else:\n",
    "        address=adrs.text\n",
    "    address=address.replace(\"\\n\",\"-\")\n",
    "    \n",
    "    #email or Phone fee\n",
    "    email=pagesoup1.find('div',{\"class\":\"mb-3 font-weight-bold\"}).text\n",
    "    fee=email.replace(\"\\n\",\"\")\n",
    "    \n",
    "    #Specialisation\n",
    "    spec=pagesoup1.find('div',{\"class\":\"doctors-spec mr-2\"})\n",
    "    specialisation=spec.find(\"span\",{\"class\":\"doc-spec-name\"}).text\n",
    "    #Years of Experience\n",
    "    exp=pagesoup1.find('p',{\"class\":\"h2 mb-3\"})\n",
    "    if(exp==None):\n",
    "        experience=\"np.nan\"\n",
    "    else:\n",
    "        experience=exp.text\n",
    "    #Language\n",
    "    l=items.find('p',{\"class\":\"m-0\"})\n",
    "    lang=l.find('span',{\"class\":\"font-weight-bold\"})\n",
    "    if(lang==None):\n",
    "        language=\"np.nan\"\n",
    "    else:\n",
    "        language=lang.text\n",
    "    language=language.replace(\"\\n\",\" \")\n",
    "    #Rating\n",
    "    rating=items.find('div',{\"class\":\"overall-rating\"}).text\n",
    "    rating=rating.replace(\"\\n\",\" \")\n",
    "    #Clinic Name\n",
    "    clinic=pagesoup1.find('div',{\"class\":\"loaction mt-1\"})\n",
    "    if(clinic==None):\n",
    "        clinicName=\"np.nan\"\n",
    "    else:\n",
    "        clinicName=clinic.find('p').text\n",
    "    \n",
    "    #PhoneBooking\n",
    "    phone=items.findAll('a',{\"class\":\"btn doctor-consult-btn-cta\"})\n",
    "    link=items.a[\"href\"]\n",
    "    if(link!=None):\n",
    "        Booking=\"Y\"\n",
    "    else:\n",
    "        Booking='N'\n",
    "        \n",
    "    \n",
    "    #Writing all the date into excel \n",
    "    f.write(namecontainer.replace(\",\",\" \") +\",\"+ photo.replace(\",\",\" \")+\",\"+ aboutme.replace(\",\",\" \")+\",\"+ d.replace(\",\",\" \")+\",\"+ fee.replace(\",\",\" \")+\",\"+address.replace(\",\",\" \")+\",\"+ specialisation.replace(\",\",\" \")+\",\"+ experience.replace(\",\",\" \")+\",\"+ language.replace(\",\",\" \")+\",\"+ rating.replace(\",\",\" \")+\",\"+ clinicName.replace(\",\",\" \")+\",\"+ Booking.replace(\",\",\" \")+\",\"+ url_doc.replace(\",\",\" \")+\"\\n\")\n",
    "\n"
   ]
  },
  {
   "cell_type": "code",
   "execution_count": 6,
   "metadata": {},
   "outputs": [],
   "source": [
    "f.write(\"Total number of items: \" + \",\" + str(len(itemlocator)))\n",
    "f.close()"
   ]
  },
  {
   "cell_type": "code",
   "execution_count": null,
   "metadata": {},
   "outputs": [],
   "source": []
  },
  {
   "cell_type": "code",
   "execution_count": null,
   "metadata": {},
   "outputs": [],
   "source": []
  }
 ],
 "metadata": {
  "kernelspec": {
   "display_name": "Python 3",
   "language": "python",
   "name": "python3"
  },
  "language_info": {
   "codemirror_mode": {
    "name": "ipython",
    "version": 3
   },
   "file_extension": ".py",
   "mimetype": "text/x-python",
   "name": "python",
   "nbconvert_exporter": "python",
   "pygments_lexer": "ipython3",
   "version": "3.8.3"
  }
 },
 "nbformat": 4,
 "nbformat_minor": 4
}
